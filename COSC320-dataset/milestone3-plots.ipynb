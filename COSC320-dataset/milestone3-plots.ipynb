{
 "cells": [
  {
   "attachments": {},
   "cell_type": "markdown",
   "metadata": {},
   "source": [
    "# Plots of Theoretical and Practical Running Time"
   ]
  },
  {
   "cell_type": "code",
   "execution_count": 2,
   "metadata": {},
   "outputs": [],
   "source": [
    "# import statements\n",
    "import csv, os, re\n",
    "\n",
    "\n",
    "# for plots\n",
    "import matplotlib\n",
    "import matplotlib.pyplot as plt\n",
    "import numpy as np\n",
    "import time\n",
    "import pygtrie"
   ]
  },
  {
   "cell_type": "code",
   "execution_count": 4,
   "metadata": {},
   "outputs": [],
   "source": [
    "# giant_string.py (modified to generate different n)\n",
    "\n",
    "string_files = [] # stores names\n",
    "\n",
    "for j in range(20):\n",
    "    # Prepare individual text files\n",
    "    string_files.append('one_giant_string' + str(j) + '.txt')\n",
    "    with open('one_giant_string' + str(j) + '.txt', 'w', encoding=\"utf8\") as f:\n",
    "        counter = 0     # Initalize counter variable\n",
    "        # Load up the complete data of reviews\n",
    "        with open(\"one_giant_string.txt\", 'r', encoding=\"utf8\") as allData:\n",
    "            data = allData.read().split()\n",
    "            # Load millions of words into individual text files\n",
    "            while counter < j*2000000:\n",
    "                f.write(data[counter] + \" \")\n",
    "                counter += 1\n",
    "        '''\n",
    "        for csvfile in os.listdir('c:/Users/eehie/Desktop/UBC/COSC 320/COSC320-Project/data'):\n",
    "            if counter < j*100:\n",
    "                with open('c:/Users/eehie/Desktop/UBC/COSC 320/COSC320-Project/data/' + csvfile, 'r', encoding='utf8') as therealcsv:\n",
    "                    csvreader = csv.reader(x.replace('\\0', '').replace('\\r\\n', '') for x in therealcsv)\n",
    "                    content_col = 0\n",
    "                    i = 0\n",
    "                    cur_row = []\n",
    "                    for row in csvreader:\n",
    "                        if i == 0 and len(row) == 0:\n",
    "                            break\n",
    "                        elif i == 0:\n",
    "                            content_col = row.index('content')\n",
    "                        else:\n",
    "                            f.write(re.sub(r'[\\n\\r\\u2028\\u2029]+', ' ', row[content_col] + ' '))\n",
    "                        i += 1\n",
    "                        '''\n",
    "        \n"
   ]
  },
  {
   "cell_type": "code",
   "execution_count": 7,
   "metadata": {},
   "outputs": [
    {
     "name": "stdout",
     "output_type": "stream",
     "text": [
      "Conversion completed.\n",
      "Practical Running Time in Seconds:  0.001001119613647461\n",
      "{'wth': 'What The Hell', 'asap': 'As Soon As Possible', 'btw': 'By The Way', 'diy': 'Do It Yourself', 'eta': 'Estimated Time of Arrival', 'fyi': 'For Your Information', 'idk': \"I Don't Know\", 'imo': 'In My Opinion', 'imho': 'In My Humble Opinion', 'omw': 'On My Way', 'ttyl': 'Talk To You Later', 'wip': 'Work In Progress', 'ty': 'Thank You', 'lmao': 'Laughing My A** Off', 'lol': 'Laughing Out Loud', 'rofl': 'Rolling On the Floor Laughing', 'icymi': 'In Case You Missed It', 'tldr': \"Too Long Didn't Read\", 'tmi': 'Too Much Information', 'lmk': 'Let Me Know', 'nvm': 'Nevermind', 'ftw': 'For The Win', 'np': 'No Problem', 'jk': 'Just Kidding', 'jw': 'Just Wondering', 'rn': 'Right Now', 'irl': 'In Real Life', 'dae': 'Does Anyone Else', 'gg': 'Good Game', 'smh': 'Shaking My Head', 'ngl': 'Not Gonna Lie', 'ikr': 'I Know Right', 'wtf': 'What The F***', 'aa': 'Alcoholics Anonymous', 'a.a.': 'Alcoholics Anonymous', \"it's\": 'It is', \"doesn't\": 'Does Not', \"that's\": 'That Is', \"you're\": 'You Are', \"i'm\": 'I Am'}\n"
     ]
    },
    {
     "ename": "AttributeError",
     "evalue": "'dict' object has no attribute 'longest_prefix'",
     "output_type": "error",
     "traceback": [
      "\u001b[1;31m---------------------------------------------------------------------------\u001b[0m",
      "\u001b[1;31mAttributeError\u001b[0m                            Traceback (most recent call last)",
      "\u001b[1;32m~\\AppData\\Local\\Temp\\ipykernel_13236\\517130885.py\u001b[0m in \u001b[0;36m<module>\u001b[1;34m\u001b[0m\n\u001b[0;32m    145\u001b[0m \u001b[1;33m\u001b[0m\u001b[0m\n\u001b[0;32m    146\u001b[0m \u001b[1;31m#hash_algorithm()\u001b[0m\u001b[1;33m\u001b[0m\u001b[1;33m\u001b[0m\u001b[0m\n\u001b[1;32m--> 147\u001b[1;33m \u001b[0malgorithm2\u001b[0m\u001b[1;33m(\u001b[0m\u001b[1;33m)\u001b[0m\u001b[1;33m\u001b[0m\u001b[1;33m\u001b[0m\u001b[0m\n\u001b[0m",
      "\u001b[1;32m~\\AppData\\Local\\Temp\\ipykernel_13236\\517130885.py\u001b[0m in \u001b[0;36malgorithm2\u001b[1;34m()\u001b[0m\n\u001b[0;32m    134\u001b[0m                 \u001b[1;32mfor\u001b[0m \u001b[0mline\u001b[0m \u001b[1;32min\u001b[0m \u001b[0minfile\u001b[0m\u001b[1;33m:\u001b[0m\u001b[1;33m\u001b[0m\u001b[1;33m\u001b[0m\u001b[0m\n\u001b[0;32m    135\u001b[0m                     \u001b[1;31m# Replace abbreviations in the current line\u001b[0m\u001b[1;33m\u001b[0m\u001b[1;33m\u001b[0m\u001b[0m\n\u001b[1;32m--> 136\u001b[1;33m                     \u001b[0mconverted_line\u001b[0m \u001b[1;33m=\u001b[0m \u001b[0mtrie_replace_abbreviations\u001b[0m\u001b[1;33m(\u001b[0m\u001b[0mline\u001b[0m\u001b[1;33m,\u001b[0m \u001b[0mabbreviations\u001b[0m\u001b[1;33m)\u001b[0m\u001b[1;33m\u001b[0m\u001b[1;33m\u001b[0m\u001b[0m\n\u001b[0m\u001b[0;32m    137\u001b[0m                     \u001b[1;31m# Write the converted line to the output file\u001b[0m\u001b[1;33m\u001b[0m\u001b[1;33m\u001b[0m\u001b[0m\n\u001b[0;32m    138\u001b[0m                     \u001b[0moutfile\u001b[0m\u001b[1;33m.\u001b[0m\u001b[0mwrite\u001b[0m\u001b[1;33m(\u001b[0m\u001b[0mconverted_line\u001b[0m\u001b[1;33m)\u001b[0m\u001b[1;33m\u001b[0m\u001b[1;33m\u001b[0m\u001b[0m\n",
      "\u001b[1;32m~\\AppData\\Local\\Temp\\ipykernel_13236\\517130885.py\u001b[0m in \u001b[0;36mtrie_replace_abbreviations\u001b[1;34m(line, t)\u001b[0m\n\u001b[0;32m    103\u001b[0m     pattern = re.compile(r'\\b(?:' + '|'.join(re.escape(key)\n\u001b[0;32m    104\u001b[0m                          for key in t.keys()) + r')\\b')\n\u001b[1;32m--> 105\u001b[1;33m     \u001b[1;32mreturn\u001b[0m \u001b[0mpattern\u001b[0m\u001b[1;33m.\u001b[0m\u001b[0msub\u001b[0m\u001b[1;33m(\u001b[0m\u001b[1;32mlambda\u001b[0m \u001b[0mx\u001b[0m\u001b[1;33m:\u001b[0m \u001b[0mt\u001b[0m\u001b[1;33m.\u001b[0m\u001b[0mlongest_prefix\u001b[0m\u001b[1;33m(\u001b[0m\u001b[0mx\u001b[0m\u001b[1;33m.\u001b[0m\u001b[0mgroup\u001b[0m\u001b[1;33m(\u001b[0m\u001b[1;33m)\u001b[0m\u001b[1;33m)\u001b[0m\u001b[1;33m[\u001b[0m\u001b[1;36m1\u001b[0m\u001b[1;33m]\u001b[0m\u001b[1;33m,\u001b[0m \u001b[0mline\u001b[0m\u001b[1;33m)\u001b[0m\u001b[1;33m\u001b[0m\u001b[1;33m\u001b[0m\u001b[0m\n\u001b[0m\u001b[0;32m    106\u001b[0m \u001b[1;33m\u001b[0m\u001b[0m\n\u001b[0;32m    107\u001b[0m \u001b[1;32mdef\u001b[0m \u001b[0mhash_algorithm\u001b[0m\u001b[1;33m(\u001b[0m\u001b[1;33m)\u001b[0m\u001b[1;33m:\u001b[0m\u001b[1;33m\u001b[0m\u001b[1;33m\u001b[0m\u001b[0m\n",
      "\u001b[1;32m~\\AppData\\Local\\Temp\\ipykernel_13236\\517130885.py\u001b[0m in \u001b[0;36m<lambda>\u001b[1;34m(x)\u001b[0m\n\u001b[0;32m    103\u001b[0m     pattern = re.compile(r'\\b(?:' + '|'.join(re.escape(key)\n\u001b[0;32m    104\u001b[0m                          for key in t.keys()) + r')\\b')\n\u001b[1;32m--> 105\u001b[1;33m     \u001b[1;32mreturn\u001b[0m \u001b[0mpattern\u001b[0m\u001b[1;33m.\u001b[0m\u001b[0msub\u001b[0m\u001b[1;33m(\u001b[0m\u001b[1;32mlambda\u001b[0m \u001b[0mx\u001b[0m\u001b[1;33m:\u001b[0m \u001b[0mt\u001b[0m\u001b[1;33m.\u001b[0m\u001b[0mlongest_prefix\u001b[0m\u001b[1;33m(\u001b[0m\u001b[0mx\u001b[0m\u001b[1;33m.\u001b[0m\u001b[0mgroup\u001b[0m\u001b[1;33m(\u001b[0m\u001b[1;33m)\u001b[0m\u001b[1;33m)\u001b[0m\u001b[1;33m[\u001b[0m\u001b[1;36m1\u001b[0m\u001b[1;33m]\u001b[0m\u001b[1;33m,\u001b[0m \u001b[0mline\u001b[0m\u001b[1;33m)\u001b[0m\u001b[1;33m\u001b[0m\u001b[1;33m\u001b[0m\u001b[0m\n\u001b[0m\u001b[0;32m    106\u001b[0m \u001b[1;33m\u001b[0m\u001b[0m\n\u001b[0;32m    107\u001b[0m \u001b[1;32mdef\u001b[0m \u001b[0mhash_algorithm\u001b[0m\u001b[1;33m(\u001b[0m\u001b[1;33m)\u001b[0m\u001b[1;33m:\u001b[0m\u001b[1;33m\u001b[0m\u001b[1;33m\u001b[0m\u001b[0m\n",
      "\u001b[1;31mAttributeError\u001b[0m: 'dict' object has no attribute 'longest_prefix'"
     ]
    }
   ],
   "source": [
    "# abbreviation_converter.py (modified to run through and plot different n)\n",
    "# print(string_files)\n",
    "nValues = []\n",
    "tValues = []\n",
    "\n",
    "# Step 1: Create a dictionary of abbreviations\n",
    "abbreviations = {\n",
    "    \"wth\": \"What The Hell\",\n",
    "    \"asap\": \"As Soon As Possible\",\n",
    "    \"btw\": \"By The Way\",\n",
    "    \"diy\": \"Do It Yourself\",\n",
    "    \"eta\": \"Estimated Time of Arrival\",\n",
    "    \"fyi\": \"For Your Information\",\n",
    "    \"idk\": \"I Don't Know\",\n",
    "    \"imo\": \"In My Opinion\",\n",
    "    \"imho\": \"In My Humble Opinion\",\n",
    "    \"omw\": \"On My Way\",\n",
    "    \"ttyl\": \"Talk To You Later\",\n",
    "    \"wip\": \"Work In Progress\",\n",
    "    \"ty\": \"Thank You\",\n",
    "    \"lmao\": \"Laughing My A** Off\",\n",
    "    \"lol\": \"Laughing Out Loud\",\n",
    "    \"rofl\": \"Rolling On the Floor Laughing\",\n",
    "    \"icymi\": \"In Case You Missed It\",\n",
    "    \"tldr\": \"Too Long Didn't Read\",\n",
    "    \"tmi\": \"Too Much Information\",\n",
    "    \"lmk\": \"Let Me Know\",\n",
    "    \"nvm\": \"Nevermind\",\n",
    "    \"ftw\": \"For The Win\",\n",
    "    \"np\": \"No Problem\",\n",
    "    \"jk\": \"Just Kidding\",\n",
    "    \"jw\": \"Just Wondering\",\n",
    "    \"rn\": \"Right Now\",\n",
    "    \"irl\": \"In Real Life\",\n",
    "    \"dae\": \"Does Anyone Else\",\n",
    "    \"gg\": \"Good Game\",\n",
    "    \"smh\": \"Shaking My Head\",\n",
    "    \"ngl\": \"Not Gonna Lie\",\n",
    "    \"ikr\": \"I Know Right\",\n",
    "    \"wtf\": \"What The F***\",\n",
    "    \"aa\" : \"Alcoholics Anonymous\",\n",
    "    \"a.a.\" : \"Alcoholics Anonymous\",\n",
    "    \"it's\" : \"It is\",\n",
    "    \"doesn't\" : \"Does Not\",\n",
    "    \"that's\" : \"That Is\",\n",
    "    \"you're\" : \"You Are\",\n",
    "    \"i'm\" : \"I Am\"\n",
    "}\n",
    "\n",
    "t = pygtrie.CharTrie()\n",
    "t['wth']     = \"What The Hell\"\n",
    "t[\"asap\"]    = \"As Soon As Possible\",\n",
    "t[\"btw\"]     = \"By The Way\",\n",
    "t[\"diy\"]     = \"Do It Yourself\",\n",
    "t[\"eta\"]     = \"Estimated Time of Arrival\",\n",
    "t[\"fyi\"]     = \"For Your Information\",\n",
    "t[\"idk\"]     = \"I Don't Know\",\n",
    "t[\"imo\"]     = \"In My Opinion\",\n",
    "t[\"imho\"]    = \"In My Humble Opinion\",\n",
    "t[\"omw\"]     = \"On My Way\",\n",
    "t[\"ttyl\"]    = \"Talk To You Later\",\n",
    "t[\"wip\"]     = \"Work In Progress\",\n",
    "t[\"ty\"]      = \"Thank You\",\n",
    "t[\"lmao\"]    = \"Laughing My A** Off\",\n",
    "t[\"lol\"]     = \"Laughing Out Loud\",\n",
    "t[\"rofl\"]    = \"Rolling On the Floor Laughing\",\n",
    "t[\"icymi\"]   = \"In Case You Missed It\",\n",
    "t[\"tldr\"]    = \"Too Long Didn't Read\",\n",
    "t[\"tmi\"]     = \"Too Much Information\",\n",
    "t[\"lmk\"]     = \"Let Me Know\",\n",
    "t[\"nvm\"]     = \"Nevermind\",\n",
    "t[\"ftw\"]     = \"For The Win\",\n",
    "t[\"np\"]      = \"No Problem\",\n",
    "t[\"jk\"]      = \"Just Kidding\",\n",
    "t[\"jw\"]      = \"Just Wondering\",\n",
    "t[\"rn\"]      = \"Right Now\",\n",
    "t[\"irl\"]     = \"In Real Life\",\n",
    "t[\"dae\"]     = \"Does Anyone Else\",\n",
    "t[\"gg\"]      = \"Good Game\",\n",
    "t[\"smh\"]     = \"Shaking My Head\",\n",
    "t[\"ngl\"]     = \"Not Gonna Lie\",\n",
    "t[\"ikr\"]     = \"I Know Right\",\n",
    "t[\"wtf\"]     = \"What The F***\",\n",
    "t[\"aa\"]      = \"Alcoholics Anonymous\",\n",
    "t[\"a.a.\"]    = \"Alcoholics Anonymous\",\n",
    "t[\"it's\"]    = \"It is\",\n",
    "t[\"doesn't\"] = \"Does Not\",\n",
    "t[\"that's\"]  = \"That Is\",\n",
    "t[\"you're\"]  = \"You Are\",\n",
    "t[\"i'm\"]     = \"I Am\"\n",
    "\n",
    "\n",
    "# Step 2: Define a function to replace abbreviations in a line\n",
    "\n",
    "\n",
    "def hash_replace_abbreviations(line, abbrev_dict):\n",
    "    pattern = re.compile(r'\\b(?:' + '|'.join(re.escape(key)\n",
    "                         for key in abbrev_dict.keys()) + r')\\b')\n",
    "    return pattern.sub(lambda x: abbrev_dict[x.group()], line)\n",
    "\n",
    "def trie_replace_abbreviations(line, t):\n",
    "    print(t)\n",
    "    pattern = re.compile(r'\\b(?:' + '|'.join(re.escape(key)\n",
    "                         for key in t.keys()) + r')\\b')\n",
    "    return pattern.sub(lambda x: t.longest_prefix(x.group())[1], line)\n",
    "\n",
    "def hash_algorithm():\n",
    "    output_file = \"converted_giant_string.txt\"\n",
    "\n",
    "    for i in range(len(string_files)):\n",
    "        st = time.time()\n",
    "        # Read the input and process it all line by line\n",
    "        with open(string_files[i], 'r', encoding='utf-8') as infile:\n",
    "            with open(output_file, 'w', encoding='utf-8') as outfile:\n",
    "                for line in infile:\n",
    "                    # Replace abbreviations in the current line\n",
    "                    converted_line = hash_replace_abbreviations(line, abbreviations)\n",
    "                    # Write the converted line to the output file\n",
    "                    outfile.write(converted_line)\n",
    "        ft = time.time()\n",
    "        running_time = ft - st\n",
    "        print(\"Conversion completed.\")\n",
    "        print(\"Practical Running Time in Seconds: \", running_time)\n",
    "        nValues.append(i*100)\n",
    "        tValues.append(running_time)\n",
    "\n",
    "def algorithm2():\n",
    "    output_file = \"converted_giant_string.txt\"\n",
    "\n",
    "    for i in range(len(string_files)):\n",
    "        st = time.time()\n",
    "        with open(string_files[i], 'r', encoding='utf-8') as infile:\n",
    "            with open(output_file, 'w', encoding='utf-8') as outfile:\n",
    "                for line in infile:\n",
    "                    # Replace abbreviations in the current line\n",
    "                    converted_line = trie_replace_abbreviations(line, abbreviations)\n",
    "                    # Write the converted line to the output file\n",
    "                    outfile.write(converted_line)\n",
    "        ft = time.time()\n",
    "        running_time = ft - st\n",
    "        print(\"Conversion completed.\")\n",
    "        print(\"Practical Running Time in Seconds: \", running_time)\n",
    "        nValues.append(i*2000000)\n",
    "        tValues.append(running_time)\n",
    "\n",
    "#hash_algorithm()\n",
    "algorithm2()\n"
   ]
  },
  {
   "cell_type": "code",
   "execution_count": 17,
   "metadata": {},
   "outputs": [
    {
     "data": {
      "text/plain": [
       "Text(0.5, 1.0, 'Actual Running Time')"
      ]
     },
     "execution_count": 17,
     "metadata": {},
     "output_type": "execute_result"
    },
    {
     "data": {
      "image/png": "[encoded data removed]",
      "text/plain": [
       "<Figure size 640x480 with 1 Axes>"
      ]
     },
     "metadata": {},
     "output_type": "display_data"
    }
   ],
   "source": [
    "## practical plot\n",
    "'''\n",
    "theoretical_running_times = pd.DataFrame.from_dict(seconds_of_running_time)\n",
    "sns.lineplot(data=theoretical_running_times, x = 'n', y = 'Running Time').set(title = \"Practical Running Time of Implementation 1\", ylabel = \"Running Time (s)\")\n",
    "\n",
    "n = theoretical\n",
    "linear_data = \n",
    "sns.lineplot(data=linear_data, x = 'n', y = 'Running Time')\n",
    "'''\n",
    "\n",
    "plt.plot(nValues, tValues, color='red', label=\"Actual version\")\n",
    "\n",
    "plt.xlabel(\"n\")\n",
    "plt.ylabel(\"Time(s)\")\n",
    "plt.legend()\n",
    "plt.title(\"Actual Running Time\")"
   ]
  },
  {
   "cell_type": "code",
   "execution_count": 18,
   "metadata": {},
   "outputs": [
    {
     "data": {
      "text/plain": [
       "Text(0.5, 1.0, 'Theoretical Running Time')"
      ]
     },
     "execution_count": 18,
     "metadata": {},
     "output_type": "execute_result"
    },
    {
     "data": {
      "image/png": "[encoded data removed]",
      "text/plain": [
       "<Figure size 640x480 with 1 Axes>"
      ]
     },
     "metadata": {},
     "output_type": "display_data"
    }
   ],
   "source": [
    "## theoretical plot\n",
    "\n",
    "plt.plot(nValues, nValues, color='blue', label=\"O(n)\")\n",
    "#plt.plot(nValues, [np.log(n) for n in nValues], color='green', label=\"O(n^2)\")\n",
    "plt.xlabel(\"n\")\n",
    "plt.ylim(0, 200000)\n",
    "plt.legend()\n",
    "plt.title(\"Theoretical Running Time\")"
   ]
  },
  {
   "cell_type": "code",
   "execution_count": 92,
   "metadata": {},
   "outputs": [
    {
     "name": "stdout",
     "output_type": "stream",
     "text": [
      "Yay, Laughing Out Loud I love this song I Am\n"
     ]
    }
   ],
   "source": [
    "\n",
    "\n",
    "def test1():\n",
    "    string = \"Yay, lol I love this song i'm\"\n",
    "    print(replace_abbreviations(string, abbreviations))\n",
    "\n",
    "test1()"
   ]
  }
 ],
 "metadata": {
  "kernelspec": {
   "display_name": "base",
   "language": "python",
   "name": "python3"
  },
  "language_info": {
   "codemirror_mode": {
    "name": "ipython",
    "version": 3
   },
   "file_extension": ".py",
   "mimetype": "text/x-python",
   "name": "python",
   "nbconvert_exporter": "python",
   "pygments_lexer": "ipython3",
   "version": "3.9.13"
  },
  "orig_nbformat": 4
 },
 "nbformat": 4,
 "nbformat_minor": 2
}
