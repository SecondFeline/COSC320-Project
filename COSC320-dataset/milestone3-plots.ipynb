{
 "cells": [
  {
   "attachments": {},
   "cell_type": "markdown",
   "metadata": {},
   "source": [
    "# Plots of Theoretical and Practical Running Time"
   ]
  },
  {
   "cell_type": "code",
   "execution_count": 28,
   "metadata": {},
   "outputs": [],
   "source": [
    "# import statements\n",
    "import csv, os, re\n",
    "\n",
    "# for plots\n",
    "import matplotlib\n",
    "import matplotlib.pyplot as plt\n",
    "\n",
    "import time"
   ]
  },
  {
   "cell_type": "code",
   "execution_count": 2,
   "metadata": {},
   "outputs": [
    {
     "ename": "FileNotFoundError",
     "evalue": "[WinError 3] The system cannot find the path specified: 'data'",
     "output_type": "error",
     "traceback": [
      "\u001b[1;31m---------------------------------------------------------------------------\u001b[0m",
      "\u001b[1;31mFileNotFoundError\u001b[0m                         Traceback (most recent call last)",
      "\u001b[1;32m~\\AppData\\Local\\Temp\\ipykernel_14348\\3808641456.py\u001b[0m in \u001b[0;36m<module>\u001b[1;34m\u001b[0m\n\u001b[0;32m      8\u001b[0m \u001b[1;31m# Change your directory path as needed\u001b[0m\u001b[1;33m\u001b[0m\u001b[1;33m\u001b[0m\u001b[0m\n\u001b[0;32m      9\u001b[0m \u001b[0mdata_directory\u001b[0m \u001b[1;33m=\u001b[0m \u001b[1;34m\"data\"\u001b[0m\u001b[1;33m\u001b[0m\u001b[1;33m\u001b[0m\u001b[0m\n\u001b[1;32m---> 10\u001b[1;33m \u001b[0mcsv_files\u001b[0m \u001b[1;33m=\u001b[0m \u001b[0msorted\u001b[0m\u001b[1;33m(\u001b[0m\u001b[1;33m[\u001b[0m\u001b[0mf\u001b[0m \u001b[1;32mfor\u001b[0m \u001b[0mf\u001b[0m \u001b[1;32min\u001b[0m \u001b[0mos\u001b[0m\u001b[1;33m.\u001b[0m\u001b[0mlistdir\u001b[0m\u001b[1;33m(\u001b[0m\u001b[0mdata_directory\u001b[0m\u001b[1;33m)\u001b[0m \u001b[1;32mif\u001b[0m \u001b[0mis_csv_file\u001b[0m\u001b[1;33m(\u001b[0m\u001b[0mf\u001b[0m\u001b[1;33m)\u001b[0m\u001b[1;33m]\u001b[0m\u001b[1;33m)\u001b[0m\u001b[1;33m\u001b[0m\u001b[1;33m\u001b[0m\u001b[0m\n\u001b[0m\u001b[0;32m     11\u001b[0m \u001b[1;33m\u001b[0m\u001b[0m\n\u001b[0;32m     12\u001b[0m \u001b[1;32mwith\u001b[0m \u001b[0mopen\u001b[0m\u001b[1;33m(\u001b[0m\u001b[1;34m'all_reviews_content_only.csv'\u001b[0m\u001b[1;33m,\u001b[0m \u001b[1;34m'w'\u001b[0m\u001b[1;33m,\u001b[0m \u001b[0mencoding\u001b[0m\u001b[1;33m=\u001b[0m\u001b[1;34m'utf8'\u001b[0m\u001b[1;33m)\u001b[0m \u001b[1;32mas\u001b[0m \u001b[0mf\u001b[0m\u001b[1;33m:\u001b[0m\u001b[1;33m\u001b[0m\u001b[1;33m\u001b[0m\u001b[0m\n",
      "\u001b[1;31mFileNotFoundError\u001b[0m: [WinError 3] The system cannot find the path specified: 'data'"
     ]
    }
   ],
   "source": [
    "# data_combiner.py\n",
    "\n",
    "# Helper function to check if a file is a CSV file\n",
    "def is_csv_file(filename):\n",
    "    return filename.endswith(\".csv\")\n",
    "\n",
    "\n",
    "# Change your directory path as needed\n",
    "data_directory = \"data\"\n",
    "csv_files = sorted([f for f in os.listdir(data_directory) if is_csv_file(f)])\n",
    "\n",
    "with open('all_reviews_content_only.csv', 'w', encoding='utf8') as f:\n",
    "    for csvfile in csv_files:\n",
    "        with open(os.path.join(data_directory, csvfile), 'r', encoding='utf8') as therealcsv:\n",
    "            csvreader = csv.reader(x.replace('\\0', '') for x in therealcsv)\n",
    "            content_col = 0\n",
    "            i = 0\n",
    "            cur_row = []\n",
    "            for row in csvreader:\n",
    "                if i == 0 and len(row) == 0:\n",
    "                    break\n",
    "                elif i == 0:\n",
    "                    content_col = row.index('content')\n",
    "                else:\n",
    "                    f.write('\"' + row[content_col] + '\"' + '\\n')\n",
    "                i += 1"
   ]
  },
  {
   "cell_type": "code",
   "execution_count": 50,
   "metadata": {},
   "outputs": [
    {
     "name": "stdout",
     "output_type": "stream",
     "text": [
      "0\n",
      "8910000\n",
      "100\n",
      "530000\n",
      "200\n",
      "9710000\n",
      "300\n",
      "320000\n",
      "400\n",
      "3640000\n",
      "500\n",
      "680000\n",
      "600\n",
      "700000\n",
      "700\n",
      "215230000\n",
      "800\n",
      "60000\n",
      "900\n",
      "30000\n",
      "1000\n",
      "6650000\n",
      "1100\n",
      "120000\n",
      "1200\n",
      "8950000\n",
      "1300\n",
      "1100000\n",
      "1400\n",
      "1330000\n",
      "1500\n",
      "3700000\n",
      "1600\n",
      "150000\n",
      "1700\n",
      "250000\n",
      "1800\n",
      "310000\n",
      "1900\n",
      "230000\n"
     ]
    }
   ],
   "source": [
    "# giant_string.py (modified to generate different n)\n",
    "\n",
    "string_files = [] # stores names\n",
    "\n",
    "for j in range(20):\n",
    "    string_files.append('one_giant_string' + str(i) + '.txt')\n",
    "    with open('one_giant_string' + str(j) + '.txt', 'w', encoding='utf8') as f:\n",
    "        counter = 0\n",
    "        for csvfile in os.listdir('c:/Users/eehie/Desktop/UBC/COSC 320/COSC320-Project/data'):\n",
    "            if counter < j*100:\n",
    "                with open('c:/Users/eehie/Desktop/UBC/COSC 320/COSC320-Project/data/' + csvfile, 'r', encoding='utf8') as therealcsv:\n",
    "                    csvreader = csv.reader(x.replace('\\0', '').replace('\\r\\n', '') for x in therealcsv)\n",
    "                    content_col = 0\n",
    "                    i = 0\n",
    "                    cur_row = []\n",
    "                    for row in csvreader:\n",
    "                        if i == 0 and len(row) == 0:\n",
    "                            break\n",
    "                        elif i == 0:\n",
    "                            content_col = row.index('content')\n",
    "                        else:\n",
    "                            f.write(re.sub(r'[\\n\\r\\u2028\\u2029]+', ' ', row[content_col] + ' '))\n",
    "                        i += 1\n",
    "            else:\n",
    "                break\n",
    "            counter += 1\n",
    "        \n"
   ]
  },
  {
   "cell_type": "code",
   "execution_count": 41,
   "metadata": {},
   "outputs": [
    {
     "name": "stdout",
     "output_type": "stream",
     "text": [
      "Conversion completed.\n",
      "Practical Running Time in Seconds:  0.0\n",
      "Conversion completed.\n",
      "Practical Running Time in Seconds:  0.24786138534545898\n",
      "Conversion completed.\n",
      "Practical Running Time in Seconds:  0.42638278007507324\n",
      "Conversion completed.\n",
      "Practical Running Time in Seconds:  0.5939352512359619\n",
      "Conversion completed.\n",
      "Practical Running Time in Seconds:  0.7694666385650635\n",
      "Conversion completed.\n",
      "Practical Running Time in Seconds:  0.9400107860565186\n",
      "Conversion completed.\n",
      "Practical Running Time in Seconds:  1.1105539798736572\n",
      "Conversion completed.\n",
      "Practical Running Time in Seconds:  1.275618553161621\n",
      "Conversion completed.\n",
      "Practical Running Time in Seconds:  1.4451649188995361\n",
      "Conversion completed.\n",
      "Practical Running Time in Seconds:  1.614713430404663\n",
      "Conversion completed.\n",
      "Practical Running Time in Seconds:  1.7817707061767578\n",
      "Conversion completed.\n",
      "Practical Running Time in Seconds:  1.949324131011963\n",
      "Conversion completed.\n",
      "Practical Running Time in Seconds:  2.1238574981689453\n",
      "Conversion completed.\n",
      "Practical Running Time in Seconds:  2.2874205112457275\n",
      "Conversion completed.\n",
      "Practical Running Time in Seconds:  2.452977180480957\n",
      "Conversion completed.\n",
      "Practical Running Time in Seconds:  2.625516653060913\n",
      "Conversion completed.\n",
      "Practical Running Time in Seconds:  2.7910828590393066\n",
      "Conversion completed.\n",
      "Practical Running Time in Seconds:  2.9566400051116943\n",
      "Conversion completed.\n",
      "Practical Running Time in Seconds:  3.124192237854004\n",
      "Conversion completed.\n",
      "Practical Running Time in Seconds:  3.2912514209747314\n"
     ]
    }
   ],
   "source": [
    "# abbreviation_converter.py (modified to run through and plot different n)\n",
    "\n",
    "nValues = []\n",
    "tValues = []\n",
    "\n",
    "# Step 1: Create a dictionary of abbreviations\n",
    "abbreviations = {\n",
    "    \"WTH\": \"What The Hell\",\n",
    "    \"ASAP\": \"As Soon As Possible\",\n",
    "    \"BTW\": \"By The Way\",\n",
    "    \"DIY\": \"Do It Yourself\",\n",
    "    \"ETA\": \"Estimated Time of Arrival\",\n",
    "    \"FYI\": \"For Your Information\",\n",
    "    \"IDK\": \"I Don't Know\",\n",
    "    \"IMO\": \"In My Opinion\",\n",
    "    \"IMHO\": \"In My Humble Opinion\",\n",
    "    \"OMW\": \"On My Way\",\n",
    "    \"TTYL\": \"Talk To You Later\",\n",
    "    \"WIP\": \"Work In Progress\",\n",
    "    \"TY\": \"Thank You\",\n",
    "    \"LMAO\": \"Laughing My A** Off\",\n",
    "    \"LOL\": \"Laughing Out Loud\",\n",
    "    \"ROFL\": \"Rolling On the Floor Laughing\",\n",
    "    \"ICYMI\": \"In Case You Missed It\",\n",
    "    \"TLDR\": \"Too Long Didn't Read\",\n",
    "    \"TMI\": \"Too Much Information\",\n",
    "    \"LMK\": \"Let Me Know\",\n",
    "    \"NVM\": \"Nevermind\",\n",
    "    \"FTW\": \"For The Win\",\n",
    "    \"NP\": \"No Problem\",\n",
    "    \"JK\": \"Just Kidding\",\n",
    "    \"JW\": \"Just Wondering\",\n",
    "    \"RN\": \"Right Now\",\n",
    "    \"IRL\": \"In Real Life\",\n",
    "    \"DAE\": \"Does Anyone Else\",\n",
    "    \"GG\": \"Good Game\",\n",
    "    \"SMG\": \"Shaking My Head\",\n",
    "    \"NGL\": \"Not Gonna Lie\",\n",
    "    \"IKR\": \"I Know Right\",\n",
    "    \"WTF\": \"What The F***\",\n",
    "    \"AA\" : \"Alcoholics Anonymous\",\n",
    "    \"A.A.\" : \"Alcoholics Anonymous\",\n",
    "    \"IT'S\" : \"It is\",\n",
    "    \"DOESN'T\" : \"Does Not\",\n",
    "    \"THAT'S\" : \"That Is\",\n",
    "    \"YOU'RE\" : \"You Are\",\n",
    "    \"I'M\" : \"I Am\"\n",
    "}\n",
    "\n",
    "# Step 2: Define a function to replace abbreviations in a line\n",
    "\n",
    "\n",
    "def replace_abbreviations(line, abbrev_dict):\n",
    "    pattern = re.compile(r'\\b(?:' + '|'.join(re.escape(key)\n",
    "                         for key in abbrev_dict.keys()) + r')\\b')\n",
    "    return pattern.sub(lambda x: abbrev_dict[x.group()], line)\n",
    "\n",
    "def algorithm1():\n",
    "    st = time.time()\n",
    "    output_file = \"converted_giant_string.txt\"\n",
    "\n",
    "    for i in range(len(string_files)):\n",
    "        # Read the input and process it all line by line\n",
    "        with open(string_files[i], 'r', encoding='utf-8') as infile:\n",
    "            with open(output_file, 'w', encoding='utf-8') as outfile:\n",
    "                for line in infile:\n",
    "                    # Replace abbreviations in the current line\n",
    "                    converted_line = replace_abbreviations(line, abbreviations)\n",
    "                    # Write the converted line to the output file\n",
    "                    outfile.write(converted_line)\n",
    "        ft = time.time()\n",
    "        running_time = ft - st\n",
    "        print(\"Conversion completed.\")\n",
    "        print(\"Practical Running Time in Seconds: \", running_time)\n",
    "        nValues.append(i*10000)\n",
    "        tValues.append(running_time)\n",
    "\n",
    "algorithm1()\n"
   ]
  },
  {
   "cell_type": "code",
   "execution_count": 42,
   "metadata": {},
   "outputs": [
    {
     "data": {
      "text/plain": [
       "Text(0.5, 1.0, 'Actual Running Time')"
      ]
     },
     "execution_count": 42,
     "metadata": {},
     "output_type": "execute_result"
    },
    {
     "data": {
      "image/png": "[encoded data removed]",
      "text/plain": [
       "<Figure size 640x480 with 1 Axes>"
      ]
     },
     "metadata": {},
     "output_type": "display_data"
    }
   ],
   "source": [
    "## practical plot\n",
    "'''\n",
    "theoretical_running_times = pd.DataFrame.from_dict(seconds_of_running_time)\n",
    "sns.lineplot(data=theoretical_running_times, x = 'n', y = 'Running Time').set(title = \"Practical Running Time of Implementation 1\", ylabel = \"Running Time (s)\")\n",
    "\n",
    "n = theoretical\n",
    "linear_data = \n",
    "sns.lineplot(data=linear_data, x = 'n', y = 'Running Time')\n",
    "'''\n",
    "\n",
    "plt.plot(nValues, tValues, color='red', label=\"Actual version\")\n",
    "\n",
    "plt.xlabel(\"n\")\n",
    "plt.ylabel(\"Time(s)\")\n",
    "plt.legend()\n",
    "plt.title(\"Actual Running Time\")"
   ]
  },
  {
   "cell_type": "code",
   "execution_count": 40,
   "metadata": {},
   "outputs": [
    {
     "data": {
      "text/plain": [
       "Text(0.5, 1.0, 'Theoretical Running Time')"
      ]
     },
     "execution_count": 40,
     "metadata": {},
     "output_type": "execute_result"
    },
    {
     "data": {
      "image/png": "[encoded data removed]",
      "text/plain": [
       "<Figure size 640x480 with 1 Axes>"
      ]
     },
     "metadata": {},
     "output_type": "display_data"
    }
   ],
   "source": [
    "## theoretical plot\n",
    "\n",
    "plt.plot(nValues, nValues, color='blue', label=\"O(n)\")\n",
    "\n",
    "plt.xlabel(\"n\")\n",
    "plt.ylim(0, 200000)\n",
    "plt.legend()\n",
    "plt.title(\"Theoretical Running Time\")"
   ]
  },
  {
   "cell_type": "code",
   "execution_count": null,
   "metadata": {},
   "outputs": [],
   "source": [
    "\n",
    "for line in infile:\n",
    "    # Replace abbreviations in the current line\n",
    "    converted_line = replace_abbreviations(line, abbreviations)\n",
    "    # Write the converted line to the output file\n",
    "test1(){\n",
    "    \n",
    "}"
   ]
  }
 ],
 "metadata": {
  "kernelspec": {
   "display_name": "base",
   "language": "python",
   "name": "python3"
  },
  "language_info": {
   "codemirror_mode": {
    "name": "ipython",
    "version": 3
   },
   "file_extension": ".py",
   "mimetype": "text/x-python",
   "name": "python",
   "nbconvert_exporter": "python",
   "pygments_lexer": "ipython3",
   "version": "3.9.13"
  },
  "orig_nbformat": 4
 },
 "nbformat": 4,
 "nbformat_minor": 2
}
