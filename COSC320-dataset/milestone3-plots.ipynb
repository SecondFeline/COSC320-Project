{
 "cells": [
  {
   "attachments": {},
   "cell_type": "markdown",
   "metadata": {},
   "source": [
    "# Plots of Theoretical and Practical Running Time"
   ]
  },
  {
   "cell_type": "code",
   "execution_count": 6,
   "metadata": {},
   "outputs": [],
   "source": [
    "# import statements\n",
    "import csv, os, re\n",
    "\n",
    "# for plots\n",
    "import pandas as pd\n",
    "import seaborn as sns\n",
    "import time"
   ]
  },
  {
   "cell_type": "code",
   "execution_count": 7,
   "metadata": {},
   "outputs": [],
   "source": [
    "# data_combiner.py\n",
    "\n",
    "# Helper function to check if a file is a CSV file\n",
    "def is_csv_file(filename):\n",
    "    return filename.endswith(\".csv\")\n",
    "\n",
    "\n",
    "# Change your directory path as needed\n",
    "data_directory = \"data\"\n",
    "csv_files = sorted([f for f in os.listdir(data_directory) if is_csv_file(f)])\n",
    "\n",
    "with open('all_reviews_content_only.csv', 'w', encoding='utf8') as f:\n",
    "    for csvfile in csv_files:\n",
    "        with open(os.path.join(data_directory, csvfile), 'r', encoding='utf8') as therealcsv:\n",
    "            csvreader = csv.reader(x.replace('\\0', '') for x in therealcsv)\n",
    "            content_col = 0\n",
    "            i = 0\n",
    "            cur_row = []\n",
    "            for row in csvreader:\n",
    "                if i == 0 and len(row) == 0:\n",
    "                    break\n",
    "                elif i == 0:\n",
    "                    content_col = row.index('content')\n",
    "                else:\n",
    "                    f.write('\"' + row[content_col] + '\"' + '\\n')\n",
    "                i += 1"
   ]
  },
  {
   "cell_type": "code",
   "execution_count": 9,
   "metadata": {},
   "outputs": [],
   "source": [
    "# giant_string.py (modified to generate different n)\n",
    "\n",
    "string_files = [] # stores names\n",
    "\n",
    "for i in range(20):\n",
    "    string_files.append('one_giant_string' + str(i) + '.txt')\n",
    "    with open('one_giant_string' + str(i) + '.txt', 'w', encoding='utf8') as f:\n",
    "        counter = 0\n",
    "        for csvfile in os.listdir('data'):\n",
    "            if counter < i*10000:\n",
    "                with open('data/' + csvfile, 'r', encoding='utf8') as therealcsv:\n",
    "                    csvreader = csv.reader(x.replace('\\0', '').replace('\\r\\n', '') for x in therealcsv)\n",
    "                    content_col = 0\n",
    "                    i = 0\n",
    "                    cur_row = []\n",
    "                    for row in csvreader:\n",
    "                        if i == 0 and len(row) == 0:\n",
    "                            break\n",
    "                        elif i == 0:\n",
    "                            content_col = row.index('content')\n",
    "                        else:\n",
    "                            f.write(re.sub(r'[\\n\\r\\u2028\\u2029]+', ' ', row[content_col] + ' '))\n",
    "                        i += 1\n",
    "            else:\n",
    "                break\n",
    "            counter += 1\n",
    "        \n"
   ]
  },
  {
   "cell_type": "code",
   "execution_count": 13,
   "metadata": {},
   "outputs": [
    {
     "name": "stdout",
     "output_type": "stream",
     "text": [
      "Conversion completed.\n",
      "Practical Running Time in Seconds:  0.00217437744140625\n",
      "Conversion completed.\n",
      "Practical Running Time in Seconds:  0.56789231300354\n",
      "Conversion completed.\n",
      "Practical Running Time in Seconds:  1.1540601253509521\n",
      "Conversion completed.\n",
      "Practical Running Time in Seconds:  1.7586631774902344\n",
      "Conversion completed.\n",
      "Practical Running Time in Seconds:  2.2852091789245605\n",
      "Conversion completed.\n",
      "Practical Running Time in Seconds:  2.794548273086548\n",
      "Conversion completed.\n",
      "Practical Running Time in Seconds:  3.3539581298828125\n",
      "Conversion completed.\n",
      "Practical Running Time in Seconds:  3.9415202140808105\n",
      "Conversion completed.\n",
      "Practical Running Time in Seconds:  4.476895332336426\n",
      "Conversion completed.\n",
      "Practical Running Time in Seconds:  5.105848073959351\n",
      "Conversion completed.\n",
      "Practical Running Time in Seconds:  5.680152177810669\n",
      "Conversion completed.\n",
      "Practical Running Time in Seconds:  6.374099254608154\n",
      "Conversion completed.\n",
      "Practical Running Time in Seconds:  6.883962154388428\n",
      "Conversion completed.\n",
      "Practical Running Time in Seconds:  7.388749122619629\n",
      "Conversion completed.\n",
      "Practical Running Time in Seconds:  7.967726230621338\n",
      "Conversion completed.\n",
      "Practical Running Time in Seconds:  8.514833211898804\n",
      "Conversion completed.\n",
      "Practical Running Time in Seconds:  9.061689138412476\n",
      "Conversion completed.\n",
      "Practical Running Time in Seconds:  9.573663234710693\n",
      "Conversion completed.\n",
      "Practical Running Time in Seconds:  10.058905124664307\n",
      "Conversion completed.\n",
      "Practical Running Time in Seconds:  10.585174083709717\n"
     ]
    }
   ],
   "source": [
    "# abbreviation_converter.py (modified to run through and plot different n)\n",
    "\n",
    "seconds_of_running_time = {'n':[], 'Running Time':[]}\n",
    "\n",
    "# Step 1: Create a dictionary of abbreviations\n",
    "abbreviations = {\n",
    "    \"WTH\": \"What The Hell\",\n",
    "    \"ASAP\": \"As Soon As Possible\",\n",
    "    \"BTW\": \"By The Way\",\n",
    "    \"DIY\": \"Do It Yourself\",\n",
    "    \"ETA\": \"Estimated Time of Arrival\",\n",
    "    \"FYI\": \"For Your Information\",\n",
    "    \"IDK\": \"I Don't Know\",\n",
    "    \"IMO\": \"In My Opinion\",\n",
    "    \"IMHO\": \"In My Humble Opinion\",\n",
    "    \"OMW\": \"On My Way\",\n",
    "    \"TTYL\": \"Talk To You Later\",\n",
    "    \"WIP\": \"Work In Progress\",\n",
    "    \"TY\": \"Thank You\",\n",
    "    \"LMAO\": \"Laughing My A** Off\",\n",
    "    \"LOL\": \"Laughing Out Loud\",\n",
    "    \"ROFL\": \"Rolling On the Floor Laughing\",\n",
    "    \"ICYMI\": \"In Case You Missed It\",\n",
    "    \"TLDR\": \"Too Long Didn't Read\",\n",
    "    \"TMI\": \"Too Much Information\",\n",
    "    \"LMK\": \"Let Me Know\",\n",
    "    \"NVM\": \"Nevermind\",\n",
    "    \"FTW\": \"For The Win\",\n",
    "    \"NP\": \"No Problem\",\n",
    "    \"JK\": \"Just Kidding\",\n",
    "    \"JW\": \"Just Wondering\",\n",
    "    \"RN\": \"Right Now\",\n",
    "    \"IRL\": \"In Real Life\",\n",
    "    \"DAE\": \"Does Anyone Else\",\n",
    "    \"GG\": \"Good Game\",\n",
    "    \"SMG\": \"Shaking My Head\",\n",
    "    \"NGL\": \"Not Gonna Lie\",\n",
    "    \"IKR\": \"I Know Right\",\n",
    "    \"WTF\": \"What The F***\"\n",
    "}\n",
    "\n",
    "# Step 2: Define a function to replace abbreviations in a line\n",
    "\n",
    "\n",
    "def replace_abbreviations(line, abbrev_dict):\n",
    "    pattern = re.compile(r'\\b(?:' + '|'.join(re.escape(key)\n",
    "                         for key in abbrev_dict.keys()) + r')\\b')\n",
    "    return pattern.sub(lambda x: abbrev_dict[x.group()], line)\n",
    "\n",
    "st = time.time()\n",
    "output_file = \"converted_giant_string.txt\"\n",
    "\n",
    "for i in range(len(string_files)):\n",
    "    # Read the input and process it all line by line\n",
    "    with open(string_files[i], 'r', encoding='utf-8') as infile:\n",
    "        with open(output_file, 'w', encoding='utf-8') as outfile:\n",
    "            for line in infile:\n",
    "                # Replace abbreviations in the current line\n",
    "                converted_line = replace_abbreviations(line, abbreviations)\n",
    "                # Write the converted line to the output file\n",
    "                outfile.write(converted_line)\n",
    "    ft = time.time()\n",
    "    running_time = ft - st\n",
    "    print(\"Conversion completed.\")\n",
    "    print(\"Practical Running Time in Seconds: \", running_time)\n",
    "    seconds_of_running_time['n'].append(i*10000)\n",
    "    seconds_of_running_time['Running Time'].append(running_time)\n",
    "\n"
   ]
  },
  {
   "cell_type": "code",
   "execution_count": 14,
   "metadata": {},
   "outputs": [
    {
     "data": {
      "text/plain": [
       "[Text(0.5, 1.0, 'Practical Running Time of Implementation 1')]"
      ]
     },
     "execution_count": 14,
     "metadata": {},
     "output_type": "execute_result"
    },
    {
     "data": {
      "image/png": "[encoded data removed]",
      "text/plain": [
       "<Figure size 640x480 with 1 Axes>"
      ]
     },
     "metadata": {},
     "output_type": "display_data"
    }
   ],
   "source": [
    "## practical plot\n",
    "\n",
    "theoretical_running_times = pd.DataFrame.from_dict(seconds_of_running_time)\n",
    "sns.lineplot(data=theoretical_running_times, x = 'n', y = 'Running Time').set(title = \"Practical Running Time of Implementation 1\", ylabel = \"Running Time (s)\")"
   ]
  },
  {
   "cell_type": "code",
   "execution_count": null,
   "metadata": {},
   "outputs": [],
   "source": [
    "## theoretical plot\n",
    "\n"
   ]
  }
 ],
 "metadata": {
  "kernelspec": {
   "display_name": "base",
   "language": "python",
   "name": "python3"
  },
  "language_info": {
   "codemirror_mode": {
    "name": "ipython",
    "version": 3
   },
   "file_extension": ".py",
   "mimetype": "text/x-python",
   "name": "python",
   "nbconvert_exporter": "python",
   "pygments_lexer": "ipython3",
   "version": "3.10.8"
  },
  "orig_nbformat": 4
 },
 "nbformat": 4,
 "nbformat_minor": 2
}
